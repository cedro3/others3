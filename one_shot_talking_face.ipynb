{
  "cells": [
    {
      "cell_type": "markdown",
      "metadata": {
        "id": "view-in-github",
        "colab_type": "text"
      },
      "source": [
        "<a href=\"https://colab.research.google.com/github/cedro3/others3/blob/master/one_shot_talking_face.ipynb\" target=\"_parent\"><img src=\"https://colab.research.google.com/assets/colab-badge.svg\" alt=\"Open In Colab\"/></a>"
      ]
    },
    {
      "cell_type": "code",
      "execution_count": null,
      "metadata": {
        "id": "OHPfXjK_opA4"
      },
      "outputs": [],
      "source": [
        "#@title #**Setup**\n",
        "!git lfs install\n",
        "%cd /content\n",
        "!git clone https://huggingface.co/camenduru/pocketsphinx-20.04-t4 pocketsphinx\n",
        "%cd  /content/pocketsphinx\n",
        "!sudo cmake --build build --target install\n",
        "%cd /content\n",
        "!git clone https://huggingface.co/camenduru/one-shot-talking-face-20.04-t4 one-shot-talking-face\n",
        "%cd /content/one-shot-talking-face\n",
        "!pip install -r /content/one-shot-talking-face/requirements.txt\n",
        "!chmod 755 /content/one-shot-talking-face/OpenFace/FeatureExtraction\n",
        "!mkdir /content/out\n",
        "!apt install -qq libgtk2.0-0 jq -y\n",
        "!pip install -q imageio-ffmpeg"
      ]
    },
    {
      "cell_type": "code",
      "execution_count": null,
      "metadata": {
        "id": "XdoRAI2OopA6"
      },
      "outputs": [],
      "source": [
        "#@title #**make movie**\n",
        "import os, random, torchaudio\n",
        "from IPython.display import HTML\n",
        "from base64 import b64encode\n",
        "from IPython.display import clear_output\n",
        "\n",
        "def show_video(video_path, video_width = 256):\n",
        "  video_file = open(video_path, \"r+b\").read()\n",
        "  video_url = f\"data:video/mp4;base64,{b64encode(video_file).decode()}\"\n",
        "  return HTML(f\"\"\"<video width={video_width} controls><source src=\"{video_url}\"></video>\"\"\")\n",
        "\n",
        "#@markdown -Select wav_file_name from the one-shot-talking-face/samples/audios folder.\\\n",
        "#@markdown -Select image_file_name from the one-shot-talking-face/samples/imgs folder.\n",
        "\n",
        "wav_file_name = 'obama2.wav' #@param {type:\"string\"}\n",
        "image_file_name = 'paint.jpg' #@param {type:\"string\"}\n",
        "\n",
        "wav_file = \"/content/one-shot-talking-face/samples/audios/\" + wav_file_name\n",
        "image_file = \"/content/one-shot-talking-face/samples/imgs/\" + image_file_name \n",
        "\n",
        "waveform, sample_rate = torchaudio.load(wav_file)\n",
        "torchaudio.save(wav_file, waveform, sample_rate, encoding=\"PCM_S\", bits_per_sample=16)\n",
        "\n",
        "os.environ['wav_file'] = wav_file\n",
        "os.environ['image_file'] = image_file\n",
        "random_int = str(random.randint(1, 1000000))\n",
        "\n",
        "!mkdir /content/train\n",
        "!cp $wav_file /content/train/audio.wav\n",
        "!cp $image_file /content/train/image.png\n",
        "\n",
        "!pocketsphinx -phone_align yes single /content/train/audio.wav $text | jq '[.w[]|{word: (.t | ascii_upcase | sub(\"<S>\"; \"sil\") | sub(\"<SIL>\"; \"sil\") | sub(\"\\\\(2\\\\)\"; \"\") | sub(\"\\\\(3\\\\)\"; \"\") | sub(\"\\\\(4\\\\)\"; \"\") | sub(\"\\\\[SPEECH\\\\]\"; \"SIL\") | sub(\"\\\\[NOISE\\\\]\"; \"SIL\")), phones: [.w[]|{ph: .t | sub(\"\\\\+SPN\\\\+\"; \"SIL\") | sub(\"\\\\+NSN\\\\+\"; \"SIL\"), bg: (.b*100)|floor, ed: (.b*100+.d*100)|floor}]}]' > /content/test.json\n",
        "%cd /content/one-shot-talking-face\n",
        "!python -B test_script.py --img_path /content/train/image.png --audio_path /content/train/audio.wav --phoneme_path /content/test.json --save_dir /content/train\n",
        "\n",
        "os.environ['ran_num'] = random_int\n",
        "!cp /content/train/image_audio.mp4 \"/content/out/${ran_num}.mp4\"\n",
        "\n",
        "clear_output()\n",
        "\n",
        "show_video(f\"/content/out/{random_int}.mp4\")"
      ]
    },
    {
      "cell_type": "code",
      "source": [
        "#@title #**Download movie** ( for google chrome)\n",
        "from google.colab import files\n",
        "file_path =f\"/content/out/{random_int}.mp4\"\n",
        "files.download(file_path)"
      ],
      "metadata": {
        "id": "PYUvVPPd_dk5"
      },
      "execution_count": null,
      "outputs": []
    }
  ],
  "metadata": {
    "accelerator": "GPU",
    "colab": {
      "provenance": [],
      "include_colab_link": true
    },
    "gpuClass": "standard",
    "kernelspec": {
      "display_name": "Python 3",
      "name": "python3"
    },
    "language_info": {
      "name": "python"
    }
  },
  "nbformat": 4,
  "nbformat_minor": 0
}