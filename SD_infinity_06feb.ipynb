{
  "nbformat": 4,
  "nbformat_minor": 0,
  "metadata": {
    "colab": {
      "provenance": [],
      "include_colab_link": true
    },
    "kernelspec": {
      "name": "python3",
      "display_name": "Python 3"
    },
    "language_info": {
      "name": "python"
    },
    "accelerator": "GPU"
  },
  "cells": [
    {
      "cell_type": "markdown",
      "metadata": {
        "id": "view-in-github",
        "colab_type": "text"
      },
      "source": [
        "<a href=\"https://colab.research.google.com/github/cedro3/others3/blob/master/SD_infinity_06feb.ipynb\" target=\"_parent\"><img src=\"https://colab.research.google.com/assets/colab-badge.svg\" alt=\"Open In Colab\"/></a>"
      ]
    },
    {
      "cell_type": "code",
      "source": [
        "#@title **Setup**\n",
        "\n",
        "# install library\n",
        "!nvidia-smi -L\n",
        "!pip install -qq -U diffusers==0.11.1 transformers ftfy accelerate\n",
        "!pip install -q gradio==3.11.0\n",
        "!pip install -q fpie timm\n",
        "!pip uninstall taichi -y\n",
        "\n",
        "# git clone\n",
        "!git clone --recurse-submodules https://github.com/lkwq007/stablediffusion-infinity\n",
        "%cd stablediffusion-infinity\n",
        "!cp -r PyPatchMatch/csrc .\n",
        "!cp PyPatchMatch/Makefile .\n",
        "!cp PyPatchMatch/Makefile_fallback .\n",
        "!cp PyPatchMatch/travis.sh .\n",
        "!cp PyPatchMatch/patch_match.py . \n",
        "\n",
        "# program start\n",
        "!python app.py --share"
      ],
      "metadata": {
        "id": "MDjNh7svvSl3"
      },
      "execution_count": null,
      "outputs": []
    }
  ]
}