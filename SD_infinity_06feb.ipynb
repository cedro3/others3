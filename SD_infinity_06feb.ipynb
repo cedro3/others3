{
  "nbformat": 4,
  "nbformat_minor": 0,
  "metadata": {
    "colab": {
      "provenance": [],
      "include_colab_link": true
    },
    "kernelspec": {
      "name": "python3",
      "display_name": "Python 3"
    },
    "language_info": {
      "name": "python"
    },
    "accelerator": "GPU"
  },
  "cells": [
    {
      "cell_type": "markdown",
      "metadata": {
        "id": "view-in-github",
        "colab_type": "text"
      },
      "source": [
        "<a href=\"https://colab.research.google.com/github/cedro3/others3/blob/master/SD_infinity_06feb.ipynb\" target=\"_parent\"><img src=\"https://colab.research.google.com/assets/colab-badge.svg\" alt=\"Open In Colab\"/></a>"
      ]
    },
    {
      "cell_type": "code",
      "source": [
        "#@title **setup**\n",
        "\n",
        "# install library\n",
        "!nvidia-smi -L\n",
        "!pip install -qq -U diffusers==0.11.1 transformers ftfy accelerate\n",
        "!pip install -q gradio==3.11.0\n",
        "!pip install -q fpie timm\n",
        "!pip uninstall taichi -y\n",
        "\n",
        "# git clone\n",
        "!git clone --recurse-submodules https://github.com/lkwq007/stablediffusion-infinity\n",
        "%cd stablediffusion-infinity\n",
        "!cp -r PyPatchMatch/csrc .\n",
        "!cp PyPatchMatch/Makefile .\n",
        "!cp PyPatchMatch/Makefile_fallback .\n",
        "!cp PyPatchMatch/travis.sh .\n",
        "!cp PyPatchMatch/patch_match.py . \n",
        "\n",
        "# program start\n",
        "!python app.py --share"
      ],
      "metadata": {
        "id": "MDjNh7svvSl3",
        "outputId": "9a091790-a898-47a0-b4c2-f9a4d841c975",
        "colab": {
          "base_uri": "https://localhost:8080/"
        }
      },
      "execution_count": null,
      "outputs": [
        {
          "output_type": "stream",
          "name": "stdout",
          "text": [
            "GPU 0: Tesla T4 (UUID: GPU-1662ffab-ca9d-df32-5423-5648af28b2be)\n",
            "\u001b[31mERROR: Operation cancelled by user\u001b[0m\u001b[31m\n",
            "\u001b[0m"
          ]
        }
      ]
    }
  ]
}